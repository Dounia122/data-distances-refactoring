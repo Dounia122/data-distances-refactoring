{
 "cells": [
  {
   "cell_type": "markdown",
   "metadata": {},
   "source": [
    "# Code refactoring"
   ]
  },
  {
   "cell_type": "markdown",
   "metadata": {},
   "source": [
    "In this challenge you will practice:\n",
    "\n",
    "- Moving code from notebook to `.py` files\n",
    "- Writing tests and TDD\n",
    "- Refactoring code\n",
    "- Good `git commit` practices"
   ]
  },
  {
   "cell_type": "markdown",
   "metadata": {
    "slideshow": {
     "slide_type": "slide"
    }
   },
   "source": [
    "# Moving code to `.py` files"
   ]
  },
  {
   "cell_type": "markdown",
   "metadata": {
    "slideshow": {
     "slide_type": "subslide"
    }
   },
   "source": [
    "We have, and will be, coding a lot in 📚 notebooks.\n",
    "\n",
    "As we write more code, we'll want to move some of our code into 🐍 `.py` files."
   ]
  },
  {
   "cell_type": "markdown",
   "metadata": {
    "slideshow": {
     "slide_type": "fragment"
    }
   },
   "source": [
    "## Why❓"
   ]
  },
  {
   "cell_type": "markdown",
   "metadata": {
    "slideshow": {
     "slide_type": "fragment"
    }
   },
   "source": [
    "- To **simplify our notebooks** and only keep the essence in the notebook\n",
    "- To **reuse** the same code in multiple notebooks, e.g. to fetch and clean our source data\n",
    "- To be able to **test** our code\n",
    "- To use in our final **apps in production**"
   ]
  },
  {
   "cell_type": "markdown",
   "metadata": {
    "slideshow": {
     "slide_type": "subslide"
    }
   },
   "source": [
    "## 🎯 Our task: calculate the Manhattan distance\n",
    "\n",
    "<img alt=\"Manhattan vs Euclidean distance\" src=\"https://wagon-public-datasets.s3.amazonaws.com/data-science-images/lectures/manhattan_distance.png\" width=500>"
   ]
  },
  {
   "cell_type": "markdown",
   "metadata": {},
   "source": [
    "* **Euclidean distance**: The straight-line distance between two points in space.\n",
    "  Formula:\n",
    "\n",
    "  $$\n",
    "  \\sqrt{(x_2 - x_1)^2 + (y_2 - y_1)^2}\n",
    "  $$\n",
    "\n",
    "* **Manhattan distance**: The sum of the absolute differences of the coordinates (like navigating a grid).\n",
    "  Formula:\n",
    "\n",
    "  $$\n",
    "  |x_2 - x_1| + |y_2 - y_1|\n",
    "  $$\n"
   ]
  },
  {
   "cell_type": "markdown",
   "metadata": {
    "slideshow": {
     "slide_type": "subslide"
    }
   },
   "source": [
    "First, we 📝 draft some code in a notebook cell:"
   ]
  },
  {
   "cell_type": "code",
   "execution_count": null,
   "metadata": {
    "slideshow": {
     "slide_type": "fragment"
    }
   },
   "outputs": [],
   "source": [
    "a = (1, 1)\n",
    "b = (4, 5)\n",
    "\n",
    "d_x = b[0] - a[0]\n",
    "d_y = b[1] - a[1]\n",
    "\n",
    "distance = d_x + d_y\n",
    "distance"
   ]
  },
  {
   "cell_type": "markdown",
   "metadata": {
    "slideshow": {
     "slide_type": "subslide"
    }
   },
   "source": [
    "(Yes, there's a problem with this code, but let's pretend we didn't see it.)\n",
    "\n",
    "Looks good! But we can't reuse this code.\n",
    "\n",
    "Let's 🛠️ refactor this into a function `manhattan(a, b)` that will take two points, i.e. two tuples, as its arguments:"
   ]
  },
  {
   "cell_type": "code",
   "execution_count": null,
   "metadata": {
    "slideshow": {
     "slide_type": "fragment"
    },
    "tags": [
     "challengify"
    ]
   },
   "outputs": [],
   "source": [
    "# YOUR CODE HERE"
   ]
  },
  {
   "cell_type": "markdown",
   "metadata": {},
   "source": [
    "Try your function:"
   ]
  },
  {
   "cell_type": "code",
   "execution_count": null,
   "metadata": {},
   "outputs": [],
   "source": [
    "a = (1, 1)\n",
    "b = (4, 5)\n",
    "manhattan(a, b)"
   ]
  },
  {
   "cell_type": "markdown",
   "metadata": {
    "slideshow": {
     "slide_type": "subslide"
    }
   },
   "source": [
    "Better! But we can only use it in this 📚 notebook.\n",
    "\n",
    "Let's 🚚 move it into a  🐍 `utils/distances.py` file."
   ]
  },
  {
   "cell_type": "markdown",
   "metadata": {},
   "source": [
    "Copy paste your function definition in the `.py` file.\n",
    "\n",
    "Now we can import it from there, and delete our draft code from the notebook:"
   ]
  },
  {
   "cell_type": "code",
   "execution_count": null,
   "metadata": {
    "slideshow": {
     "slide_type": "fragment"
    }
   },
   "outputs": [],
   "source": [
    "from utils.distances import manhattan\n",
    "\n",
    "manhattan(a, b)"
   ]
  },
  {
   "cell_type": "markdown",
   "metadata": {},
   "source": [
    "### Check your code!"
   ]
  },
  {
   "cell_type": "code",
   "execution_count": null,
   "metadata": {},
   "outputs": [],
   "source": [
    "from nbresult import ChallengeResult\n",
    "\n",
    "a = (1, 1)\n",
    "b = (4, 5)\n",
    "\n",
    "result = ChallengeResult('manhattan_from_notebook',\n",
    "    manhattan=manhattan(a,b),\n",
    "    manhattan_reverse=manhattan(b,a)\n",
    ")\n",
    "result.write()"
   ]
  },
  {
   "cell_type": "code",
   "execution_count": null,
   "metadata": {},
   "outputs": [],
   "source": [
    "print(result.check())"
   ]
  },
  {
   "cell_type": "markdown",
   "metadata": {
    "slideshow": {
     "slide_type": "fragment"
    }
   },
   "source": [
    "That didn't work out very well. You only passed one test. Why are you not passing the second one?\n",
    "\n",
    "You should be able to find out why from the test results, but if you're in doubt run the cell below."
   ]
  },
  {
   "cell_type": "code",
   "execution_count": null,
   "metadata": {},
   "outputs": [],
   "source": [
    "print(\"Distance between a and b:\", manhattan(a,b))\n",
    "print(\"Distance between b and a:\", manhattan(b,a))"
   ]
  },
  {
   "cell_type": "markdown",
   "metadata": {},
   "source": [
    "Correct your `manhattan()` function in the `utils/distances.py` function:\n",
    "\n",
    "Find this line:\n",
    "\n",
    "```python\n",
    "distance = d_x + d_y\n",
    "```\n",
    "\n",
    "and replace it by:\n",
    "```python\n",
    "distance = abs(d_x + d_y)\n",
    "```\n",
    "\n",
    "(Yes, that's not correct either, we know. Just copy-paste it for now. You'll see why later.)\n",
    "\n",
    "Then try the cell above again. Does it make any difference?\n",
    "\n",
    "No, your notebook is still running the previous version of your code. You have to restart your notebook, and then rerun all the code. \n",
    "\n",
    "That's annoying. Fortunately there's an easier way."
   ]
  },
  {
   "cell_type": "markdown",
   "metadata": {},
   "source": [
    "## Autoreload"
   ]
  },
  {
   "cell_type": "markdown",
   "metadata": {
    "slideshow": {
     "slide_type": "fragment"
    }
   },
   "source": [
    "💡 Call the IPython [**`autoreload`**](https://ipython.readthedocs.io/en/stable/config/extensions/autoreload.html) extension to avoid restarting the kernel everytime you modify the `.py` within your package.\n",
    "\n",
    "Add this at the top of your notebook, restart the kernel, and start the code again.\n",
    "\n",
    "```python\n",
    "%load_ext autoreload\n",
    "%autoreload 2\n",
    "```\n",
    "\n",
    "From now, the kernel will autoreload the code you imported. So whenever you change your code, you will be using the new version in your notebook. Nice!"
   ]
  },
  {
   "cell_type": "markdown",
   "metadata": {},
   "source": [
    "## Committing, the proper way"
   ]
  },
  {
   "cell_type": "markdown",
   "metadata": {
    "slideshow": {
     "slide_type": "subslide"
    }
   },
   "source": [
    "We wrote our first working function!\n",
    "\n",
    "Now is a good time to `commit`!\n",
    "\n",
    "Commit small, and often!\n",
    "\n",
    "Which files would you commit?\n",
    "\n",
    "If you don't know, go back into your terminal, and run `git status` to see which files were modified."
   ]
  },
  {
   "cell_type": "markdown",
   "metadata": {
    "slideshow": {
     "slide_type": "fragment"
    }
   },
   "source": [
    "Let's stage our `.py` file.\n",
    "\n",
    "In your terminal:\n",
    "    \n",
    "```bash\n",
    "git add utils/distances.py\n",
    "```"
   ]
  },
  {
   "cell_type": "markdown",
   "metadata": {
    "slideshow": {
     "slide_type": "fragment"
    }
   },
   "source": [
    "Then commit, with a meaningful message.\n",
    "\n",
    "We'll follow the [\"Conventional Commits\" specification](https://www.conventionalcommits.org) for our commit messages.\n",
    "\n",
    "```bash\n",
    "git commit -m \"feat(utils): manhattan distance\"\n",
    "```"
   ]
  },
  {
   "cell_type": "markdown",
   "metadata": {
    "slideshow": {
     "slide_type": "slide"
    }
   },
   "source": [
    "# Testing"
   ]
  },
  {
   "cell_type": "markdown",
   "metadata": {
    "slideshow": {
     "slide_type": "subslide"
    }
   },
   "source": [
    "Let's write some more tests for our `manhattan()` function!\n",
    "\n",
    "First, in the `tests` folder, create a `test_manhattan.py` file for our test:\n",
    "\n",
    "```bash\n",
    "touch tests/test_manhattan.py\n",
    "```"
   ]
  },
  {
   "cell_type": "markdown",
   "metadata": {
    "slideshow": {
     "slide_type": "fragment"
    }
   },
   "source": [
    "Add some tests:\n",
    "\n",
    "```python\n",
    "from utils.distances import manhattan\n",
    "\n",
    "def test_manhattan():\n",
    "    assert manhattan((0, 0), (0, 0)) == 0\n",
    "    assert manhattan((0, 0), (1, 1)) == 2\n",
    "    assert manhattan((0, 0), (1, 0)) == 1\n",
    "    assert manhattan((0, 0), (0, 1)) == 1\n",
    "    assert manhattan((0, 0), (-1, 0)) == 1\n",
    "    assert manhattan((0, 0), (0, -1)) == 1\n",
    "    assert manhattan((0, 0), (-1, -1)) == 2\n",
    "    assert manhattan((0, 0), (1, -1)) == 2\n",
    "    assert manhattan((0, 0), (-1, 1)) == 2\n",
    "```"
   ]
  },
  {
   "cell_type": "markdown",
   "metadata": {
    "slideshow": {
     "slide_type": "subslide"
    }
   },
   "source": [
    "Time to run the tests!\n",
    "\n",
    "In your terminal:\n",
    "\n",
    "```bash\n",
    "pytest -v -k manhattan\n",
    "```\n",
    "\n",
    "We use the `-k` option to only test the tests with `manhattan` in their name."
   ]
  },
  {
   "cell_type": "markdown",
   "metadata": {
    "slideshow": {
     "slide_type": "fragment"
    }
   },
   "source": [
    "Whoops! Something is wrong with our code.\n",
    "\n",
    "👉 Fix it, and run the tests again."
   ]
  },
  {
   "cell_type": "markdown",
   "metadata": {
    "slideshow": {
     "slide_type": "fragment"
    }
   },
   "source": [
    "Once it passes, `commit`!\n",
    "\n",
    "Actually, do two commits:\n",
    "- One with the tests\n",
    "- One with your code\n",
    "\n",
    "This way you'll be able to revert only one of the two if you ever need to.\n",
    "\n",
    "In your terminal:"
   ]
  },
  {
   "cell_type": "markdown",
   "metadata": {
    "slideshow": {
     "slide_type": "fragment"
    }
   },
   "source": [
    "```bash\n",
    "git add tests/test_manhattan.py\n",
    "git commit -m \"test(utils): manhattan distance\"\n",
    "\n",
    "git add utils/distances.py\n",
    "git commit -m \"fix(utils): manhattan distance with abs\"\n",
    "\n",
    "git push origin master\n",
    "```"
   ]
  },
  {
   "cell_type": "markdown",
   "metadata": {},
   "source": [
    "On Kitt you will still see one failed test. We're not done yet."
   ]
  },
  {
   "cell_type": "markdown",
   "metadata": {
    "slideshow": {
     "slide_type": "subslide"
    }
   },
   "source": [
    "## TDD\n",
    "\n",
    "So far we've been writing our tests after the facts. That's not the best practice."
   ]
  },
  {
   "cell_type": "markdown",
   "metadata": {
    "slideshow": {
     "slide_type": "subslide"
    }
   },
   "source": [
    "### 🎯 Our next task: the Euclidean distance, the TDD way!\n"
   ]
  },
  {
   "cell_type": "markdown",
   "metadata": {
    "slideshow": {
     "slide_type": "fragment"
    }
   },
   "source": [
    "First, write tests in a new file `tests/test_euclidean.py`."
   ]
  },
  {
   "cell_type": "markdown",
   "metadata": {
    "slideshow": {
     "slide_type": "fragment"
    }
   },
   "source": [
    "Add a test:\n",
    "\n",
    "```python\n",
    "from utils.distances import euclidean\n",
    "\n",
    "def test_euclidean():\n",
    "    assert euclidean((0, 0), (0, 0)) == 0\n",
    "    assert euclidean((0, 0), (3, 4)) == 5\n",
    "    assert euclidean((0, 0), (1, 0)) == 1\n",
    "    assert euclidean((0, 0), (0, 1)) == 1\n",
    "    assert euclidean((0, 0), (-1, 0)) == 1\n",
    "    assert euclidean((0, 0), (0, -1)) == 1\n",
    "    assert euclidean((0, 0), (-3, -4)) == 5\n",
    "    assert euclidean((0, 0), (3, -4)) == 5\n",
    "    assert euclidean((0, 0), (-3, 4)) == 5\n",
    "```\n",
    "<br>\n",
    "And `commit` the test!"
   ]
  },
  {
   "cell_type": "markdown",
   "metadata": {
    "slideshow": {
     "slide_type": "subslide"
    }
   },
   "source": [
    "Add an empty function to `utils/distances.py`:\n",
    "\n",
    "```python\n",
    "# [...]\n",
    "\n",
    "def euclidean(a, b):\n",
    "    pass\n",
    "```"
   ]
  },
  {
   "cell_type": "markdown",
   "metadata": {
    "slideshow": {
     "slide_type": "fragment"
    }
   },
   "source": [
    "Our code doesn't do anything yet. Our test should fail, right?\n",
    "\n",
    "Let's make sure it does. In the terminal run:\n",
    "\n",
    "```bash\n",
    "pytest -v -k euclidean\n",
    "```\n",
    "\n",
    "You should have one failed test."
   ]
  },
  {
   "cell_type": "markdown",
   "metadata": {
    "slideshow": {
     "slide_type": "subslide"
    }
   },
   "source": [
    "Good. Time to get coding. Change the function into this (wrong) code:\n",
    "\n",
    "```python\n",
    "def euclidean(a, b):\n",
    "    d_x = b[0] - a[0]\n",
    "    d_y = b[1] - a[1]\n",
    "\n",
    "    distance = d_x**2 + d_y**2\n",
    "    return distance\n",
    "```"
   ]
  },
  {
   "cell_type": "markdown",
   "metadata": {
    "slideshow": {
     "slide_type": "fragment"
    }
   },
   "source": [
    "And test again: we're getting closer. Even if it doesn't work yet, `commit`. \n",
    "\n",
    "Just in case you mess up your code in what comes next ... 🙀"
   ]
  },
  {
   "cell_type": "markdown",
   "metadata": {
    "slideshow": {
     "slide_type": "fragment"
    }
   },
   "source": [
    "<br>\n",
    "Fix the code, and run the tests again.\n",
    "\n",
    "Once this specific test passes, it's good practice to run the whole test suite again:\n",
    "\n",
    "```bash\n",
    "pytest\n",
    "```\n",
    "\n",
    "You should pass all the tests now.\n",
    "\n",
    "<br>\n",
    "\n",
    "🏋️ You know the drill: `commit`"
   ]
  },
  {
   "cell_type": "markdown",
   "metadata": {},
   "source": [
    "## Refactoring"
   ]
  },
  {
   "cell_type": "markdown",
   "metadata": {
    "slideshow": {
     "slide_type": "subslide"
    }
   },
   "source": [
    "Our two functions are very similar.\n",
    "\n",
    "We can [**refactor**](https://en.wikipedia.org/wiki/Code_refactoring) them, to reuse the common parts.\n",
    "\n",
    "The Manhattan (`p = 1`) and Euclidean (`p = 2`) distances are special cases of the [**Minkowski**](https://en.wikipedia.org/wiki/Minkowski_distance) distance:\n",
    "\n",
    "$$AB = \\sqrt[\\raisebox{16mu}{\\hspace{-2mu}$\\scriptstyle\\frac1p$}]{(\\color {red}{b_x - a_x} \\color {black})^p + (\\color {teal}{b_y - a_y}) \\color {black}^p}$$"
   ]
  },
  {
   "cell_type": "markdown",
   "metadata": {
    "slideshow": {
     "slide_type": "fragment"
    }
   },
   "source": [
    "Let's code Minkowski, and reuse that function to calculate Manhattan and Euclidean!\n",
    "\n",
    "Here goes our first (wrong) attempt:\n",
    "\n",
    "```python\n",
    "def manhattan(a, b):\n",
    "    return minkowski(a, b, 1)\n",
    "\n",
    "\n",
    "def euclidean(a, b):\n",
    "    return minkowski(a, b, 2)\n",
    "\n",
    "\n",
    "def minkowski(a, b, p):\n",
    "    d_x = b[0] - a[0]\n",
    "    d_y = b[1] - a[1]\n",
    "\n",
    "    distance = (d_x**p + d_y**p)**(1/p)\n",
    "    return distance\n",
    "```"
   ]
  },
  {
   "cell_type": "markdown",
   "metadata": {
    "slideshow": {
     "slide_type": "subslide"
    }
   },
   "source": [
    "Run the tests again, fix the code:\n",
    "\n",
    "```python\n",
    "    distance = (abs(d_x)**p + abs(d_y)**p)**(1/p)\n",
    "```\n",
    "<br>\n",
    "Finally run the tests again."
   ]
  },
  {
   "cell_type": "markdown",
   "metadata": {
    "slideshow": {
     "slide_type": "fragment"
    }
   },
   "source": [
    "The tests allowed us to check our refactored code in one go! How cool is that!"
   ]
  },
  {
   "cell_type": "markdown",
   "metadata": {
    "slideshow": {
     "slide_type": "fragment"
    }
   },
   "source": [
    "Sure you didn't forget something? Did you `commit`? And push?\n",
    "\n",
    "On Kitt you should see 5/5.\n",
    "\n",
    "Also, don't forget to commit your notebook!"
   ]
  },
  {
   "cell_type": "markdown",
   "metadata": {},
   "source": [
    "## Good style\n",
    "\n",
    "One last thing, did you achieve 10/10 for style? No? Read the `pylint` and make sure you get 10/10.\n",
    "\n",
    "Then commit and push again."
   ]
  },
  {
   "cell_type": "markdown",
   "metadata": {},
   "source": [
    "🏁 Congratulations! You learned:\n",
    "\n",
    "- How to move code from a notebook into `.py` files.\n",
    "- To write your own tests.\n",
    "- To refactor code to not repeat yourself (DRY, Don't Repeat Yourself).\n",
    "- To use your test suite to make sure you didn't make an error while refactoring."
   ]
  }
 ],
 "metadata": {
  "kernelspec": {
   "display_name": "Python 3",
   "language": "python",
   "name": "python3"
  }
 },
 "nbformat": 4,
 "nbformat_minor": 4
}
